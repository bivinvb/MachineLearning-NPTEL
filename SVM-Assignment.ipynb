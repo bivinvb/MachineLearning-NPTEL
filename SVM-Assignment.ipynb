{
 "cells": [
  {
   "cell_type": "code",
   "execution_count": 20,
   "metadata": {},
   "outputs": [],
   "source": [
    "from __future__ import division, print_function\n",
    "import numpy as np\n",
    "import sklearn\n",
    "from sklearn.svm import SVC\n",
    "from sklearn import datasets, svm \n",
    "from sklearn.cross_validation import train_test_split\n",
    "import matplotlib.pyplot as plt"
   ]
  },
  {
   "cell_type": "code",
   "execution_count": 21,
   "metadata": {},
   "outputs": [],
   "source": [
    "f = open( 'data/svm_data', 'r')\n",
    "X = []\n",
    "Y = []\n",
    "for line in f:\n",
    "    comps=line.strip().split('\\t')\n",
    "    x=[float(comps[0]), float(comps[1])]\n",
    "    y=float(comps[2])\n",
    "    X.append(x)\n",
    "    Y.append(y)\n",
    "X=numpy.asarray(X)\n",
    "Y=numpy.asarray(Y)\n",
    "X_train, X_test, y_train, y_test = train_test_split(X, Y, test_size=0.25, random_state=42)\n"
   ]
  },
  {
   "cell_type": "code",
   "execution_count": 22,
   "metadata": {
    "collapsed": true
   },
   "outputs": [],
   "source": [
    "def evaluate_on_test_data(model=None):\n",
    "    predictions = model.predict(X_test)\n",
    "    correct_classifications = 0\n",
    "    for i in range(len(y_test)):\n",
    "        if predictions[i] == y_test[i]:\n",
    "            correct_classifications += 1\n",
    "    accuracy = 100*correct_classifications/len(y_test) #Accuracy as a percentage\n",
    "    return accuracy"
   ]
  },
  {
   "cell_type": "code",
   "execution_count": 23,
   "metadata": {},
   "outputs": [
    {
     "name": "stdout",
     "output_type": "stream",
     "text": [
      "100.0 % accuracy obtained with kernel = linear\n",
      "100.0 % accuracy obtained with kernel = poly\n",
      "100.0 % accuracy obtained with kernel = rbf\n"
     ]
    }
   ],
   "source": [
    "kernels = ('linear','poly','rbf')\n",
    "accuracies = []\n",
    "for index, kernel in enumerate(kernels):\n",
    "    model = svm.SVC(kernel=kernel)\n",
    "    model.fit(X_train, y_train)\n",
    "    acc = evaluate_on_test_data(model)\n",
    "    accuracies.append(acc)\n",
    "    print(\"{} % accuracy obtained with kernel = {}\".format(acc, kernel))"
   ]
  },
  {
   "cell_type": "code",
   "execution_count": 26,
   "metadata": {},
   "outputs": [],
   "source": [
    "#Train SVMs with different kernels\n",
    "svc = svm.SVC(kernel='linear').fit(X_train, y_train)\n",
    "rbf_svc = svm.SVC(kernel='rbf', gamma=0.7).fit(X_train, y_train)\n",
    "poly_svc = svm.SVC(kernel='poly', degree=3).fit(X_train, y_train)\n",
    "\n",
    "#Create a mesh to plot in\n",
    "h = .02  # step size in the mesh\n",
    "x_min, x_max = X[:, 0].min() - 1, X[:, 0].max() + 1\n",
    "y_min, y_max = X[:, 1].min() - 1, X[:, 1].max() + 1\n",
    "xx, yy = np.meshgrid(np.arange(x_min, x_max, h),\n",
    "                     np.arange(y_min, y_max, h))\n",
    "\n",
    "#Define title for the plots\n",
    "titles = ['SVC with linear kernel',\n",
    "          'SVC with RBF kernel',\n",
    "          'SVC with polynomial (degree 3) kernel']\n",
    "\n",
    "\n",
    "for i, clf in enumerate((svc, rbf_svc, poly_svc)):\n",
    "    # Plot the decision boundary. For that, we will assign a color to each\n",
    "    # point in the mesh [x_min, m_max]x[y_min, y_max].\n",
    "    plt.figure(i)\n",
    "\n",
    "    Z = clf.predict(np.c_[xx.ravel(), yy.ravel()])\n",
    "\n",
    "    # Put the result into a color plot\n",
    "    Z = Z.reshape(xx.shape)\n",
    "    plt.contourf(xx, yy, Z, cmap=plt.cm.Paired, alpha=0.8)\n",
    "\n",
    "#     # Plot also the training points\n",
    "#     plt.scatter(X[:, 0], X[:, 1], c=y, cmap=plt.cm.ocean)\n",
    "#     plt.xlabel('Sepal length')\n",
    "#     plt.ylabel('Sepal width')\n",
    "#     plt.xlim(xx.min(), xx.max())\n",
    "#     plt.ylim(yy.min(), yy.max())\n",
    "#     plt.xticks(())\n",
    "#     plt.yticks(())\n",
    "#     plt.title(titles[i])\n",
    "\n",
    "# plt.show()"
   ]
  },
  {
   "cell_type": "code",
   "execution_count": 33,
   "metadata": {
    "scrolled": false
   },
   "outputs": [
    {
     "name": "stdout",
     "output_type": "stream",
     "text": [
      "The support vectors are:\n",
      " [[ -0.97077391  -0.62661754]\n",
      " [ -0.8910801   -6.18625792]\n",
      " [  2.45388968   2.91046677]\n",
      " [  5.34117303  -3.19553617]\n",
      " [  0.94453556   2.39075841]\n",
      " [  1.14488806   1.51273535]\n",
      " [ -0.55918139   3.66067198]\n",
      " [  0.85999142  -3.41310613]\n",
      " [ -0.84088527  -1.76003545]\n",
      " [ -1.2771354   -3.22416291]\n",
      " [  4.66628721  -3.86040583]\n",
      " [  4.07654249  -3.39156092]\n",
      " [ -3.90321337   1.77474123]\n",
      " [  0.75865088   0.87614647]\n",
      " [ -3.15456936   4.87585942]\n",
      " [  1.54907953  -1.08253139]\n",
      " [  3.48749107   1.20840668]\n",
      " [ -6.93750893   0.7020688 ]\n",
      " [  2.39589476  -3.3279586 ]\n",
      " [ -2.70257823  -1.00432371]\n",
      " [  1.11662869   4.87628322]\n",
      " [  6.58416102  -1.23127843]\n",
      " [  0.91115508  -0.33940421]\n",
      " [  1.38943048  -3.19888517]\n",
      " [  3.80744639   0.12394229]\n",
      " [ -2.80558959   2.81707963]\n",
      " [  0.15461167  -3.97509154]\n",
      " [  2.75051075  -1.54666104]\n",
      " [ -1.16101165   8.39369078]\n",
      " [ -0.44405042  -2.11766743]\n",
      " [  2.34752767   4.5295017 ]\n",
      " [ -4.19302245   3.52558089]\n",
      " [ 21.02418499  19.76702944]\n",
      " [ 18.2988937   23.18265993]\n",
      " [ 23.59448248  16.20507524]\n",
      " [ 19.96749215  11.77640679]\n",
      " [ 18.7647688   18.48235482]\n",
      " [ 22.94885108  19.53738806]\n",
      " [ 18.68355334  14.65033478]\n",
      " [ 22.05325144  18.85350176]\n",
      " [ 23.17155386  22.42925373]\n",
      " [ 12.11631344  17.70352844]\n",
      " [ 24.75506125  22.64108732]\n",
      " [ 23.91229536  27.20516869]\n",
      " [ 17.09125089  23.54584334]\n",
      " [ 21.57289916  23.29297804]\n",
      " [ 24.30014502  20.85760634]\n",
      " [ 20.69421426  17.88741662]\n",
      " [ 16.36616096  21.25374632]\n",
      " [ 20.52363193  18.51841791]\n",
      " [ 20.88924528  13.23131921]\n",
      " [ 14.45972445  20.55917163]\n",
      " [ 18.68222051  25.13705345]\n",
      " [ 21.37613159  17.73759055]\n",
      " [ 21.10535346  21.83375429]\n",
      " [ 20.85188801  23.04428322]\n",
      " [ 16.1503164   18.76038165]\n",
      " [ 17.98936343  16.79219885]\n",
      " [ 17.68145729  14.52985833]\n",
      " [ 22.91944322  20.80616541]\n",
      " [ 21.3037919   20.13939741]\n",
      " [ 16.3081353   18.35827197]\n",
      " [ 17.83359363  19.37521317]\n",
      " [ 18.03525937  25.30673408]\n",
      " [ 26.38198859  13.13710443]]\n"
     ]
    }
   ],
   "source": [
    "print(\"The support vectors are:\\n\", rbf_svc.support_vectors_)"
   ]
  },
  {
   "cell_type": "code",
   "execution_count": null,
   "metadata": {
    "collapsed": true
   },
   "outputs": [],
   "source": []
  }
 ],
 "metadata": {
  "kernelspec": {
   "display_name": "Python 3",
   "language": "python",
   "name": "python3"
  },
  "language_info": {
   "codemirror_mode": {
    "name": "ipython",
    "version": 3
   },
   "file_extension": ".py",
   "mimetype": "text/x-python",
   "name": "python",
   "nbconvert_exporter": "python",
   "pygments_lexer": "ipython3",
   "version": "3.6.1"
  }
 },
 "nbformat": 4,
 "nbformat_minor": 2
}
